{
 "cells": [
  {
   "cell_type": "code",
   "execution_count": 2,
   "id": "8888d767-2494-4f9a-95b1-11cb9635a63f",
   "metadata": {},
   "outputs": [
    {
     "name": "stdin",
     "output_type": "stream",
     "text": [
      "Enter the number of cities:  4\n",
      "Enter the names of cities separated by space:  1 2 3 4\n"
     ]
    },
    {
     "name": "stdout",
     "output_type": "stream",
     "text": [
      "Enter the cost of moving between cities:\n"
     ]
    },
    {
     "name": "stdin",
     "output_type": "stream",
     "text": [
      " 0 10 15 20\n",
      " 10 0 35 25\n",
      " 15 35 0 30\n",
      " 20 25 30 0\n"
     ]
    },
    {
     "name": "stdout",
     "output_type": "stream",
     "text": [
      "Optimal Tour: ['1', '2', '4', '3', '1']\n",
      "Minimum Distance: 80\n"
     ]
    }
   ],
   "source": [
    "import sys\n",
    "\n",
    "def tsp_dp(distance_matrix, city_names, num_cities):\n",
    "    all_sets = 2 ** num_cities\n",
    "    memo = {}\n",
    "\n",
    "    def tsp(visited, pos):\n",
    "        visited_tuple = tuple(visited)\n",
    "        if all(visited):\n",
    "            return distance_matrix[pos][0], [city_names[pos], city_names[0]]\n",
    "        if (visited_tuple, pos) in memo:\n",
    "            return memo[(visited_tuple, pos)]\n",
    "        min_distance = sys.maxsize\n",
    "        optimal_tour = []\n",
    "        for next_city in range(num_cities):\n",
    "            if not visited[next_city]:\n",
    "                visited[next_city] = True\n",
    "                candidate_distance, candidate_tour = tsp(visited, next_city)\n",
    "                total_distance = distance_matrix[pos][next_city] + candidate_distance\n",
    "                if total_distance < min_distance:\n",
    "                    min_distance = total_distance\n",
    "                    optimal_tour = [city_names[pos]] + candidate_tour\n",
    "                visited[next_city] = False\n",
    "        memo[(visited_tuple, pos)] = min_distance, optimal_tour\n",
    "        return min_distance, optimal_tour\n",
    "\n",
    "    visited = [False] * num_cities\n",
    "    visited[0] = True  # Starting city is visited\n",
    "    return tsp(visited, 0)\n",
    "\n",
    "num_cities = int(input(\"Enter the number of cities: \"))\n",
    "city_names = input(\"Enter the names of cities separated by space: \").split()\n",
    "\n",
    "distance_matrix = []\n",
    "\n",
    "print(\"Enter the cost of moving between cities:\")\n",
    "for i in range(num_cities):\n",
    "    row = list(map(int, input().split()))\n",
    "    distance_matrix.append(row)\n",
    "\n",
    "min_distance, optimal_tour = tsp_dp(distance_matrix, city_names, num_cities)\n",
    "\n",
    "print(\"Optimal Tour:\", optimal_tour)\n",
    "print(\"Minimum Distance:\", min_distance)\n"
   ]
  },
  {
   "cell_type": "code",
   "execution_count": null,
   "id": "82b01c2b-4755-4d6d-b531-d45d73b3278c",
   "metadata": {},
   "outputs": [],
   "source": []
  }
 ],
 "metadata": {
  "kernelspec": {
   "display_name": "Python 3 (ipykernel)",
   "language": "python",
   "name": "python3"
  },
  "language_info": {
   "codemirror_mode": {
    "name": "ipython",
    "version": 3
   },
   "file_extension": ".py",
   "mimetype": "text/x-python",
   "name": "python",
   "nbconvert_exporter": "python",
   "pygments_lexer": "ipython3",
   "version": "3.8.10"
  }
 },
 "nbformat": 4,
 "nbformat_minor": 5
}
