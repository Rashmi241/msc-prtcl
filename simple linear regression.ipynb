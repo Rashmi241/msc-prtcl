{
 "cells": [
  {
   "cell_type": "code",
   "execution_count": 31,
   "id": "198277be-a9fe-4558-bfb3-8f02e03e9a4f",
   "metadata": {},
   "outputs": [
    {
     "data": {
      "text/html": [
       "<div>\n",
       "<style scoped>\n",
       "    .dataframe tbody tr th:only-of-type {\n",
       "        vertical-align: middle;\n",
       "    }\n",
       "\n",
       "    .dataframe tbody tr th {\n",
       "        vertical-align: top;\n",
       "    }\n",
       "\n",
       "    .dataframe thead th {\n",
       "        text-align: right;\n",
       "    }\n",
       "</style>\n",
       "<table border=\"1\" class=\"dataframe\">\n",
       "  <thead>\n",
       "    <tr style=\"text-align: right;\">\n",
       "      <th></th>\n",
       "      <th>Name</th>\n",
       "      <th>YearsExperience</th>\n",
       "      <th>Salary</th>\n",
       "    </tr>\n",
       "  </thead>\n",
       "  <tbody>\n",
       "    <tr>\n",
       "      <th>0</th>\n",
       "      <td>A</td>\n",
       "      <td>1.2</td>\n",
       "      <td>39500.0</td>\n",
       "    </tr>\n",
       "    <tr>\n",
       "      <th>1</th>\n",
       "      <td>B</td>\n",
       "      <td>1.4</td>\n",
       "      <td>46200.0</td>\n",
       "    </tr>\n",
       "    <tr>\n",
       "      <th>2</th>\n",
       "      <td>C</td>\n",
       "      <td>1.6</td>\n",
       "      <td>37750.0</td>\n",
       "    </tr>\n",
       "    <tr>\n",
       "      <th>3</th>\n",
       "      <td>D</td>\n",
       "      <td>2.1</td>\n",
       "      <td>43520.0</td>\n",
       "    </tr>\n",
       "    <tr>\n",
       "      <th>4</th>\n",
       "      <td>E</td>\n",
       "      <td>2.3</td>\n",
       "      <td>39800.0</td>\n",
       "    </tr>\n",
       "  </tbody>\n",
       "</table>\n",
       "</div>"
      ],
      "text/plain": [
       "  Name  YearsExperience   Salary\n",
       "0    A              1.2  39500.0\n",
       "1    B              1.4  46200.0\n",
       "2    C              1.6  37750.0\n",
       "3    D              2.1  43520.0\n",
       "4    E              2.3  39800.0"
      ]
     },
     "execution_count": 31,
     "metadata": {},
     "output_type": "execute_result"
    }
   ],
   "source": [
    "import numpy as np\n",
    "import pandas as pd\n",
    "import matplotlib.pyplot as plt\n",
    "from sklearn.metrics import r2_score\n",
    "from sklearn.linear_model import LinearRegression\n",
    "from sklearn.model_selection import train_test_split\n",
    "\n",
    "data = pd.read_csv('Salary_dataset.csv')\n",
    "data.head()\n"
   ]
  },
  {
   "cell_type": "code",
   "execution_count": 32,
   "id": "d398395e-bd8a-4ad7-aeee-b3a8c48e927f",
   "metadata": {},
   "outputs": [],
   "source": [
    "x = data[['YearsExperience']].values # Feature\n",
    "y = data['Salary'].values # Target variable\n"
   ]
  },
  {
   "cell_type": "code",
   "execution_count": 42,
   "id": "9a0cf79b-4cbb-4050-8e41-9ccb67134d51",
   "metadata": {},
   "outputs": [],
   "source": [
    "X_train, X_test, y_train, y_test = train_test_split(X, y, test_size = 1/3, random_state = 1)\n",
    "regres = LinearRegression()\n",
    "regres.fit(X_train, y_train)\n",
    "y_pred = np.round(regres.predict(X_test), 2)\n"
   ]
  },
  {
   "cell_type": "code",
   "execution_count": 43,
   "id": "bd630549-8048-450d-a6f0-8e7890d2b739",
   "metadata": {},
   "outputs": [
    {
     "data": {
      "text/plain": [
       "array([ 74595.76,  91021.32,  61820.32,  80983.48,  67295.5 ,  88283.73,\n",
       "       112922.08,  44482.22, 105439.32,  98321.57])"
      ]
     },
     "execution_count": 43,
     "metadata": {},
     "output_type": "execute_result"
    }
   ],
   "source": [
    "y_pred\n"
   ]
  },
  {
   "cell_type": "code",
   "execution_count": 44,
   "id": "e896f455-180c-486d-be03-29d860e33cd8",
   "metadata": {},
   "outputs": [
    {
     "data": {
      "text/plain": [
       "array([ 83000.,  98200.,  63200.,  93940.,  61111.,  91700., 116900.,\n",
       "        43520., 109400., 101300.])"
      ]
     },
     "execution_count": 44,
     "metadata": {},
     "output_type": "execute_result"
    }
   ],
   "source": [
    "y_test"
   ]
  },
  {
   "cell_type": "code",
   "execution_count": 45,
   "id": "ba8d0e7c-ab9a-4c4e-b8e6-6661f8946d5c",
   "metadata": {},
   "outputs": [
    {
     "name": "stdout",
     "output_type": "stream",
     "text": [
      "The accuracy of our model is 92.0%\n"
     ]
    }
   ],
   "source": [
    "score = r2_score(y_test, y_pred)\n",
    "print(\"The accuracy of our model is {}%\".format(round(score, 2) *100))"
   ]
  },
  {
   "cell_type": "code",
   "execution_count": 51,
   "id": "2bbf140c-b6f4-475c-9c6d-ac7e15628b45",
   "metadata": {},
   "outputs": [
    {
     "name": "stdin",
     "output_type": "stream",
     "text": [
      "Enter the year of experience to predict salary :  10\n"
     ]
    },
    {
     "name": "stdout",
     "output_type": "stream",
     "text": [
      "The predicted salary for given 10 years :  [116572.2]\n",
      "Regression Coefficient: 9125.31\n",
      "Intercept : 25319.06\n"
     ]
    }
   ],
   "source": [
    "year=int(input(\"Enter the year of experience to predict salary : \"))\n",
    "print(f\"The predicted salary for given {year} years : \",np.round(regres.predict([[year]]),2))\n",
    "\n",
    "print(f\"Regression Coefficient: {regres.coef_[0]:.2f}\")\n",
    "print(f\"Intercept : {regres.intercept_:.2f}\")\n"
   ]
  },
  {
   "cell_type": "code",
   "execution_count": 52,
   "id": "f8a65ca8-dd1f-4fa8-ba04-2a65539abafd",
   "metadata": {},
   "outputs": [
    {
     "data": {
      "image/png": "[encoded data removed]",
      "text/plain": [
       "<Figure size 640x480 with 1 Axes>"
      ]
     },
     "metadata": {},
     "output_type": "display_data"
    }
   ],
   "source": [
    "# Visualizing both Training and Test set results on a single plot\n",
    "plt.scatter(X_train, y_train, color='red', label='Training set')\n",
    "plt.scatter(X_test, y_test, color='blue', label='Test set')\n",
    "plt.plot(X_train, regres.predict(X_train), color='green', linewidth=2, label='Regression line')\n",
    "plt.title('Salary vs Experience')\n",
    "plt.xlabel('Years of Experience')\n",
    "plt.ylabel('Salary')\n",
    "plt.legend()\n",
    "plt.show()"
   ]
  },
  {
   "cell_type": "code",
   "execution_count": null,
   "id": "7592cee8-7317-47a3-93c9-3ec67695c831",
   "metadata": {},
   "outputs": [],
   "source": []
  }
 ],
 "metadata": {
  "kernelspec": {
   "display_name": "Python 3 (ipykernel)",
   "language": "python",
   "name": "python3"
  },
  "language_info": {
   "codemirror_mode": {
    "name": "ipython",
    "version": 3
   },
   "file_extension": ".py",
   "mimetype": "text/x-python",
   "name": "python",
   "nbconvert_exporter": "python",
   "pygments_lexer": "ipython3",
   "version": "3.8.10"
  }
 },
 "nbformat": 4,
 "nbformat_minor": 5
}
