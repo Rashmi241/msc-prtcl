{
 "cells": [
  {
   "cell_type": "code",
   "execution_count": 3,
   "id": "d15bc6b1",
   "metadata": {},
   "outputs": [
    {
     "name": "stdout",
     "output_type": "stream",
     "text": [
      "Enter nodes :8 3 10 1 6 14 4 7 13\n",
      "Enter the neighbors of node 8: 3 10\n",
      "Enter the neighbors of node 3: 1 6\n",
      "Enter the neighbors of node 10: 14\n",
      "Enter the neighbors of node 1: \n",
      "Enter the neighbors of node 6: 4 7\n",
      "Enter the neighbors of node 14: 13\n",
      "Enter the neighbors of node 4: \n",
      "Enter the neighbors of node 7: \n",
      "Enter the neighbors of node 13: \n",
      "Enter the starting node for BFS: 8\n",
      "Following is the Breadth-First Search:\n",
      "8 3 10 1 6 14 4 7 13 "
     ]
    }
   ],
   "source": [
    "def bfs(visited, graph, start_node):\n",
    "    visited.append(start_node)\n",
    "    queue = [start_node]\n",
    "    while queue:\n",
    "        current_node = queue.pop(0)\n",
    "        print(current_node, end=\" \")\n",
    "        for neighbor in graph[current_node]:\n",
    "            if neighbor not in visited:\n",
    "                visited.append(neighbor)\n",
    "                queue.append(neighbor)\n",
    "# Get user input for the graph data\n",
    "graph = {}\n",
    "#num_nodes = int(input(\"Enter the number of nodes: \"))\n",
    "node=[x for x in input(\"Enter nodes :\").split()] \n",
    "for i in node:\n",
    "    neighbor = input(f\"Enter the neighbors of node {i}: \").split()\n",
    "    graph[str(i)] = neighbor\n",
    "\n",
    "# user i/p starting node\n",
    "start_node = input(\"Enter the starting node for BFS: \")\n",
    "\n",
    "print(\"Following is the Breadth-First Search:\")\n",
    "bfs([], graph, start_node)"
   ]
  },
  {
   "cell_type": "code",
   "execution_count": 1,
   "id": "6892ebd0",
   "metadata": {},
   "outputs": [
    {
     "name": "stdout",
     "output_type": "stream",
     "text": [
      "Enter nodes :8 3 10 1 6 4 7 14 13\n",
      "Enter the neighbors of node 8: 3 10\n",
      "Enter the neighbors of node 3: 1 6\n",
      "Enter the neighbors of node 10: 14 \n",
      "Enter the neighbors of node 1: \n",
      "Enter the neighbors of node 6: 4 7\n",
      "Enter the neighbors of node 4: \n",
      "Enter the neighbors of node 7: \n",
      "Enter the neighbors of node 14: 13\n",
      "Enter the neighbors of node 13: \n",
      "Enter the starting node for BFS: 8\n",
      "Following is the Breadth-First Search:\n",
      "8 3 10 1 6 14 4 7 13 "
     ]
    }
   ],
   "source": [
    "import queue\n",
    "def bfs_with_queue(graph, start):\n",
    "    visited = []\n",
    "    q = queue.Queue()\n",
    "    q.put(start)\n",
    "\n",
    "    while not q.empty():\n",
    "        node = q.get()\n",
    "        if node not in visited:\n",
    "            visited.append(node)\n",
    "            print(node, end=' ')\n",
    "\n",
    "        for neighbors in graph[node]:\n",
    "            if neighbors not in visited:\n",
    "                q.put(neighbors)\n",
    "\n",
    "graph = {}\n",
    "node=[x for x in input(\"Enter nodes :\").split()] \n",
    "for i in node:\n",
    "    neighbor = input(f\"Enter the neighbors of node {i}: \").split()\n",
    "    graph[str(i)] = neighbor\n",
    "start_node = input(\"Enter the starting node for BFS: \")\n",
    "if start_node in graph:\n",
    "    print(\"Following is the Breadth-First Search:\")\n",
    "    bfs_with_queue( graph, start_node)\n",
    "else:\n",
    "    print(\"Starting node not found in the graph.\")\n"
   ]
  },
  {
   "cell_type": "code",
   "execution_count": null,
   "id": "2cad4339",
   "metadata": {},
   "outputs": [],
   "source": []
  }
 ],
 "metadata": {
  "kernelspec": {
   "display_name": "Python 3 (ipykernel)",
   "language": "python",
   "name": "python3"
  },
  "language_info": {
   "codemirror_mode": {
    "name": "ipython",
    "version": 3
   },
   "file_extension": ".py",
   "mimetype": "text/x-python",
   "name": "python",
   "nbconvert_exporter": "python",
   "pygments_lexer": "ipython3",
   "version": "3.8.10"
  }
 },
 "nbformat": 4,
 "nbformat_minor": 5
}
