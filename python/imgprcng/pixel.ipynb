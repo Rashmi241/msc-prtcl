{
 "cells": [
  {
   "cell_type": "code",
   "execution_count": 1,
   "id": "3d4b38f8",
   "metadata": {},
   "outputs": [
    {
     "name": "stdout",
     "output_type": "stream",
     "text": [
      "Image written sucess? :  True\n"
     ]
    }
   ],
   "source": [
    "import cv2  \n",
    " \n",
    "img = cv2.imread(r'/home/user/images/sun.jpg', 1)  \n",
    "# save image  \n",
    "status = cv2.imwrite(r'/home/user/images/sun.jpg',img)  \n",
    "print(\"Image written sucess? : \", status)  "
   ]
  },
  {
   "cell_type": "code",
   "execution_count": 3,
   "id": "c03eda6b",
   "metadata": {},
   "outputs": [
    {
     "name": "stdout",
     "output_type": "stream",
     "text": [
      "[ 28  57 208]\n"
     ]
    }
   ],
   "source": [
    "import numpy as np\n",
    "import cv2 as cv\n",
    "img = cv.imread(r'/home/user/images/sun.jpg')\n",
    "px = img[100,100]\n",
    "print( px) "
   ]
  },
  {
   "cell_type": "code",
   "execution_count": 4,
   "id": "7cddde19",
   "metadata": {},
   "outputs": [],
   "source": [
    "import numpy as np\n",
    "import cv2 as cv\n",
    "img = cv.imread(r'/home/user/images/sun.jpg')\n",
    "b,g,r = cv.split(img)\n",
    "img = cv.merge((b,g,r))\n",
    "b = img[:,:,0]\n",
    "g = img[:,:,1]\n",
    "r = img[:,:,2]"
   ]
  },
  {
   "cell_type": "code",
   "execution_count": null,
   "id": "c25d1dfe",
   "metadata": {},
   "outputs": [],
   "source": [
    " "
   ]
  }
 ],
 "metadata": {
  "kernelspec": {
   "display_name": "Python 3 (ipykernel)",
   "language": "python",
   "name": "python3"
  },
  "language_info": {
   "codemirror_mode": {
    "name": "ipython",
    "version": 3
   },
   "file_extension": ".py",
   "mimetype": "text/x-python",
   "name": "python",
   "nbconvert_exporter": "python",
   "pygments_lexer": "ipython3",
   "version": "3.8.10"
  }
 },
 "nbformat": 4,
 "nbformat_minor": 5
}
