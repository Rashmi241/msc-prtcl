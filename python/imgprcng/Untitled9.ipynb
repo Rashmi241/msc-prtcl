{
 "cells": [
  {
   "cell_type": "code",
   "execution_count": null,
   "id": "2a4d439f",
   "metadata": {},
   "outputs": [],
   "source": [
    "import cv2\n",
    "img = cv2.imread('/home/user/images/img.jpg')\n",
    "edges = cv2.Canny(img,200,300,True)\n",
    "cv2.imshow(\"Edge Detected Image\", edges)  \n",
    "cv2.imshow(\"Original Image\", img)  \n",
    "cv2.waitKey(0)  # waits until a key is pressed  \n",
    "cv2.destroyAllWindows()  # destroys the window showing image"
   ]
  },
  {
   "cell_type": "code",
   "execution_count": null,
   "id": "7e37cdcb",
   "metadata": {},
   "outputs": [],
   "source": [
    "import cv2\n",
    "img = cv2.imread('/home/user/images/img.jpg')\n",
    "edges = cv2.Canny(img,200,300,True)\n",
    "cv2.imshow(\"Edge Detected Image\", edges)  \n",
    "cv2.imshow(\"Original Image\", img)  \n",
    "cv2.waitKey(0)  # waits until a key is pressed  \n",
    "cv2.destroyAllWindows()  # destroys the window showing image"
   ]
  },
  {
   "cell_type": "code",
   "execution_count": null,
   "id": "dae0bcc9",
   "metadata": {},
   "outputs": [],
   "source": []
  }
 ],
 "metadata": {
  "kernelspec": {
   "display_name": "Python 3 (ipykernel)",
   "language": "python",
   "name": "python3"
  },
  "language_info": {
   "codemirror_mode": {
    "name": "ipython",
    "version": 3
   },
   "file_extension": ".py",
   "mimetype": "text/x-python",
   "name": "python",
   "nbconvert_exporter": "python",
   "pygments_lexer": "ipython3",
   "version": "3.8.10"
  }
 },
 "nbformat": 4,
 "nbformat_minor": 5
}
