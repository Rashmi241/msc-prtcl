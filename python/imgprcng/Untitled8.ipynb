{
 "cells": [
  {
   "cell_type": "code",
   "execution_count": 1,
   "id": "627a1892",
   "metadata": {},
   "outputs": [
    {
     "name": "stderr",
     "output_type": "stream",
     "text": [
      "[ WARN:0@0.010] global loadsave.cpp:244 findDecoder imread_('C:\\Users\\Mirza\\dog.jpeg'): can't open/read file: check file path/integrity\n"
     ]
    },
    {
     "ename": "NameError",
     "evalue": "name 'img' is not defined",
     "output_type": "error",
     "traceback": [
      "\u001b[0;31m---------------------------------------------------------------------------\u001b[0m",
      "\u001b[0;31mNameError\u001b[0m                                 Traceback (most recent call last)",
      "Cell \u001b[0;32mIn[1], line 5\u001b[0m\n\u001b[1;32m      3\u001b[0m font \u001b[38;5;241m=\u001b[39m cv2\u001b[38;5;241m.\u001b[39mFONT_HERSHEY_SIMPLEX  \n\u001b[1;32m      4\u001b[0m mg \u001b[38;5;241m=\u001b[39m cv2\u001b[38;5;241m.\u001b[39mimread(\u001b[38;5;124mr\u001b[39m\u001b[38;5;124m'\u001b[39m\u001b[38;5;124mC:\u001b[39m\u001b[38;5;124m\\\u001b[39m\u001b[38;5;124mUsers\u001b[39m\u001b[38;5;124m\\\u001b[39m\u001b[38;5;124mMirza\u001b[39m\u001b[38;5;124m\\\u001b[39m\u001b[38;5;124mdog.jpeg\u001b[39m\u001b[38;5;124m'\u001b[39m, \u001b[38;5;241m1\u001b[39m)  \n\u001b[0;32m----> 5\u001b[0m cv2\u001b[38;5;241m.\u001b[39mputText(\u001b[43mimg\u001b[49m,\u001b[38;5;124m'\u001b[39m\u001b[38;5;124mDog\u001b[39m\u001b[38;5;124m'\u001b[39m,(\u001b[38;5;241m10\u001b[39m,\u001b[38;5;241m500\u001b[39m), font, \u001b[38;5;241m1\u001b[39m,(\u001b[38;5;241m255\u001b[39m,\u001b[38;5;241m255\u001b[39m,\u001b[38;5;241m255\u001b[39m),\u001b[38;5;241m2\u001b[39m)  \n\u001b[1;32m      6\u001b[0m \u001b[38;5;66;03m#Display the image  \u001b[39;00m\n\u001b[1;32m      7\u001b[0m cv2\u001b[38;5;241m.\u001b[39mimshow(\u001b[38;5;124m\"\u001b[39m\u001b[38;5;124mimage\u001b[39m\u001b[38;5;124m\"\u001b[39m,img)  \n",
      "\u001b[0;31mNameError\u001b[0m: name 'img' is not defined"
     ]
    }
   ],
   "source": [
    "import numpy as np  \n",
    "import cv2  \n",
    "font = cv2.FONT_HERSHEY_SIMPLEX  \n",
    "mg = cv2.imread(r'C:\\Users\\Mirza\\dog.jpeg', 1)  \n",
    "cv2.putText(img,'Dog',(10,500), font, 1,(255,255,255),2)  \n",
    "#Display the image  \n",
    "cv2.imshow(\"image\",img)  \n",
    "cv2.waitKey(0) "
   ]
  },
  {
   "cell_type": "code",
   "execution_count": 3,
   "id": "a59be4b2",
   "metadata": {},
   "outputs": [
    {
     "name": "stderr",
     "output_type": "stream",
     "text": [
      "[ WARN:0@312.853] global loadsave.cpp:244 findDecoder imread_('/user/home/images/images.jpg'): can't open/read file: check file path/integrity\n"
     ]
    },
    {
     "ename": "error",
     "evalue": "OpenCV(4.7.0) /io/opencv/modules/highgui/src/window.cpp:971: error: (-215:Assertion failed) size.width>0 && size.height>0 in function 'imshow'\n",
     "output_type": "error",
     "traceback": [
      "\u001b[0;31m---------------------------------------------------------------------------\u001b[0m",
      "\u001b[0;31merror\u001b[0m                                     Traceback (most recent call last)",
      "Cell \u001b[0;32mIn[3], line 7\u001b[0m\n\u001b[1;32m      5\u001b[0m cv2\u001b[38;5;241m.\u001b[39mputText(img,\u001b[38;5;124m'\u001b[39m\u001b[38;5;124mDog\u001b[39m\u001b[38;5;124m'\u001b[39m,(\u001b[38;5;241m10\u001b[39m,\u001b[38;5;241m500\u001b[39m), font, \u001b[38;5;241m1\u001b[39m,(\u001b[38;5;241m255\u001b[39m,\u001b[38;5;241m255\u001b[39m,\u001b[38;5;241m255\u001b[39m),\u001b[38;5;241m2\u001b[39m)  \n\u001b[1;32m      6\u001b[0m \u001b[38;5;66;03m#Display the image  \u001b[39;00m\n\u001b[0;32m----> 7\u001b[0m \u001b[43mcv2\u001b[49m\u001b[38;5;241;43m.\u001b[39;49m\u001b[43mimshow\u001b[49m\u001b[43m(\u001b[49m\u001b[38;5;124;43m\"\u001b[39;49m\u001b[38;5;124;43mimage\u001b[39;49m\u001b[38;5;124;43m\"\u001b[39;49m\u001b[43m,\u001b[49m\u001b[43mimg\u001b[49m\u001b[43m)\u001b[49m  \n\u001b[1;32m      8\u001b[0m cv2\u001b[38;5;241m.\u001b[39mwaitKey(\u001b[38;5;241m0\u001b[39m) \n",
      "\u001b[0;31merror\u001b[0m: OpenCV(4.7.0) /io/opencv/modules/highgui/src/window.cpp:971: error: (-215:Assertion failed) size.width>0 && size.height>0 in function 'imshow'\n"
     ]
    }
   ],
   "source": [
    "import numpy as np  \n",
    "import cv2  \n",
    "font = cv2.FONT_HERSHEY_SIMPLEX  \n",
    "img = cv2.imread(\"/user/home/images/images.jpg\", 1)  \n",
    "cv2.putText(img,'Dog',(10,500), font, 1,(255,255,255),2)  \n",
    "#Display the image  \n",
    "cv2.imshow(\"image\",img)  \n",
    "cv2.waitKey(0) "
   ]
  },
  {
   "cell_type": "code",
   "execution_count": null,
   "id": "d27fe59d",
   "metadata": {},
   "outputs": [],
   "source": [
    "import cv2  \n",
    "import numpy as np;  \n",
    "  \n",
    "img = cv2.imread(r\"/home/user/images/sun.jpg\", cv2.IMREAD_GRAYSCALE)  \n",
    "# Set up the detector with default parameters.  \n",
    "detector = cv2.SimpleBlobDetector()  \n",
    "  \n",
    "# Detecting blobs.  \n",
    "keypoints = detector.detect(img)  \n",
    "# Draw detected blobs as red circles.  \n",
    "# cv2.DRAW_MATCHES_FLAGS_DRAW_RICH_KEYPOINTS ensures the size of the circle corresponds to the size of blob  \n",
    "im_with_keypoints = cv2.drawKeypoints(img, keypoints, np.array([]), (0, 0, 255),  \n",
    "                                      cv2.DRAW_MATCHES_FLAGS_DRAW_RICH_KEYPOINTS)  \n",
    "# Show keypoints  \n",
    "cv2.imshow(\"Keypoints\", im_with_keypoints)  \n",
    "cv2.waitKey(0)  "
   ]
  },
  {
   "cell_type": "code",
   "execution_count": null,
   "id": "0c61c5e0",
   "metadata": {},
   "outputs": [],
   "source": []
  },
  {
   "cell_type": "code",
   "execution_count": null,
   "id": "e7858628",
   "metadata": {},
   "outputs": [],
   "source": []
  }
 ],
 "metadata": {
  "kernelspec": {
   "display_name": "Python 3 (ipykernel)",
   "language": "python",
   "name": "python3"
  },
  "language_info": {
   "codemirror_mode": {
    "name": "ipython",
    "version": 3
   },
   "file_extension": ".py",
   "mimetype": "text/x-python",
   "name": "python",
   "nbconvert_exporter": "python",
   "pygments_lexer": "ipython3",
   "version": "3.8.10"
  }
 },
 "nbformat": 4,
 "nbformat_minor": 5
}
