{
 "cells": [
  {
   "cell_type": "code",
   "execution_count": 9,
   "id": "d8be8f20",
   "metadata": {},
   "outputs": [
    {
     "name": "stdout",
     "output_type": "stream",
     "text": [
      "image width 193\n",
      "image height 261\n"
     ]
    }
   ],
   "source": [
    "from PIL import Image\n",
    "path='/home/user/rashmi/images/sun.jpg'\n",
    "image=Image.open(path)\n",
    "width=image.width\n",
    "height=image.height\n",
    "print('image width',width)\n",
    "print('image height',height)"
   ]
  },
  {
   "cell_type": "code",
   "execution_count": null,
   "id": "fd41c89d",
   "metadata": {},
   "outputs": [
    {
     "name": "stdout",
     "output_type": "stream",
     "text": [
      "No of Channel is: 3\n"
     ]
    }
   ],
   "source": [
    "import cv2\n",
    "import numpy\n",
    "img = cv2.imread(\"/home/user/rashmi/images/sun.jpg\")\n",
    "print('No of Channel is: ' + str(img.ndim))\n",
    "cv2.imshow(\"Channel\", img)\n",
    "cv2.waitKey()\n",
    "cv2.destroyAllWindows()"
   ]
  },
  {
   "cell_type": "code",
   "execution_count": 4,
   "id": "4297d82a",
   "metadata": {},
   "outputs": [
    {
     "name": "stdout",
     "output_type": "stream",
     "text": [
      "[[154 154 154 ... 151 151 151]\n",
      " [154 154 154 ... 151 151 151]\n",
      " [154 154 154 ... 151 151 151]\n",
      " ...\n",
      " [  1   1   1 ...   6   6   6]\n",
      " [  1   1   1 ...   6   6   6]\n",
      " [ 26  26  26 ...  18  18  18]]\n",
      "[[166 166 166 ... 163 163 163]\n",
      " [166 166 166 ... 163 163 163]\n",
      " [166 166 166 ... 163 163 163]\n",
      " ...\n",
      " [  3   3   3 ...   7   7   7]\n",
      " [  3   3   3 ...   7   7   7]\n",
      " [ 28  28  28 ...  20  20  20]]\n",
      "[[160 160 160 ... 157 157 157]\n",
      " [160 160 160 ... 157 157 157]\n",
      " [160 160 160 ... 157 157 157]\n",
      " ...\n",
      " [  3   3   3 ...   5   5   5]\n",
      " [  3   3   3 ...   3   3   3]\n",
      " [ 28  28  28 ...  14  14  14]]\n"
     ]
    }
   ],
   "source": [
    "import cv2\n",
    "img=cv2.imread('/home/user/rashmi/images/face.jpg')\n",
    "B,G,R=cv2.split(img)\n",
    "print(B)\n",
    "print(G)\n",
    "print(R)"
   ]
  },
  {
   "cell_type": "code",
   "execution_count": null,
   "id": "d0260a44",
   "metadata": {},
   "outputs": [
    {
     "name": "stdout",
     "output_type": "stream",
     "text": [
      "[[154 154 154 ... 151 151 151]\n",
      " [154 154 154 ... 151 151 151]\n",
      " [154 154 154 ... 151 151 151]\n",
      " ...\n",
      " [  1   1   1 ...   6   6   6]\n",
      " [  1   1   1 ...   6   6   6]\n",
      " [ 26  26  26 ...  18  18  18]]\n",
      "[[166 166 166 ... 163 163 163]\n",
      " [166 166 166 ... 163 163 163]\n",
      " [166 166 166 ... 163 163 163]\n",
      " ...\n",
      " [  3   3   3 ...   7   7   7]\n",
      " [  3   3   3 ...   7   7   7]\n",
      " [ 28  28  28 ...  20  20  20]]\n",
      "[[160 160 160 ... 157 157 157]\n",
      " [160 160 160 ... 157 157 157]\n",
      " [160 160 160 ... 157 157 157]\n",
      " ...\n",
      " [  3   3   3 ...   5   5   5]\n",
      " [  3   3   3 ...   3   3   3]\n",
      " [ 28  28  28 ...  14  14  14]]\n"
     ]
    }
   ],
   "source": [
    "import cv2\n",
    "img=cv2.imread('/home/user/rashmi/images/face.jpg')\n",
    "B,G,R=cv2.split(img)\n",
    "print(B)\n",
    "print(G)\n",
    "print(R)\n",
    "cv2.imshow(\"green\",B)\n",
    "cv2.waitKey(0)\n",
    "cv2.destroyAllWindows()"
   ]
  },
  {
   "cell_type": "code",
   "execution_count": null,
   "id": "efc7d753",
   "metadata": {},
   "outputs": [
    {
     "name": "stdout",
     "output_type": "stream",
     "text": [
      "[[154 154 154 ... 151 151 151]\n",
      " [154 154 154 ... 151 151 151]\n",
      " [154 154 154 ... 151 151 151]\n",
      " ...\n",
      " [  1   1   1 ...   6   6   6]\n",
      " [  1   1   1 ...   6   6   6]\n",
      " [ 26  26  26 ...  18  18  18]]\n",
      "[[166 166 166 ... 163 163 163]\n",
      " [166 166 166 ... 163 163 163]\n",
      " [166 166 166 ... 163 163 163]\n",
      " ...\n",
      " [  3   3   3 ...   7   7   7]\n",
      " [  3   3   3 ...   7   7   7]\n",
      " [ 28  28  28 ...  20  20  20]]\n",
      "[[160 160 160 ... 157 157 157]\n",
      " [160 160 160 ... 157 157 157]\n",
      " [160 160 160 ... 157 157 157]\n",
      " ...\n",
      " [  3   3   3 ...   5   5   5]\n",
      " [  3   3   3 ...   3   3   3]\n",
      " [ 28  28  28 ...  14  14  14]]\n"
     ]
    }
   ],
   "source": [
    "import cv2\n",
    "img=cv2.imread('/home/user/rashmi/images/face.jpg')\n",
    "B,G,R=cv2.split(img)\n",
    "print(B)\n",
    "print(G)\n",
    "print(R)\n",
    "cv2.imshow(\"blue\",B)\n",
    "cv2.waitKey(0)\n",
    "cv2.destroyAllWindows()"
   ]
  },
  {
   "cell_type": "code",
   "execution_count": null,
   "id": "8db69981",
   "metadata": {},
   "outputs": [],
   "source": []
  }
 ],
 "metadata": {
  "kernelspec": {
   "display_name": "Python 3 (ipykernel)",
   "language": "python",
   "name": "python3"
  },
  "language_info": {
   "codemirror_mode": {
    "name": "ipython",
    "version": 3
   },
   "file_extension": ".py",
   "mimetype": "text/x-python",
   "name": "python",
   "nbconvert_exporter": "python",
   "pygments_lexer": "ipython3",
   "version": "3.8.10"
  }
 },
 "nbformat": 4,
 "nbformat_minor": 5
}
