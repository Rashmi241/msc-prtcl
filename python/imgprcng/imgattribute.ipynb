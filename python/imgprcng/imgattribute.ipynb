{
 "cells": [
  {
   "cell_type": "code",
   "execution_count": 1,
   "id": "3afba9ec",
   "metadata": {},
   "outputs": [
    {
     "name": "stdout",
     "output_type": "stream",
     "text": [
      "filename = /home/user/rashmi/images/cat.jpg\n",
      "fileformat = JPEG\n",
      "mode = RGB\n",
      "size = (277, 182)\n",
      "width = 277\n",
      "Height = 182\n",
      "Is Animated:  False\n"
     ]
    }
   ],
   "source": [
    "from PIL import Image\n",
    "image=Image.open('/home/user/rashmi/images/cat.jpg')\n",
    "print('filename =',image.filename)\n",
    "print('fileformat =',image.format)\n",
    "print('mode =',image.mode)\n",
    "print('size =',image.size)\n",
    "print('width =',image.width)\n",
    "print('Height =',image.height)\n",
    "print(\"Is Animated: \", (getattr(image, \"is_animated\", False)))\n",
    "image.close() "
   ]
  },
  {
   "cell_type": "code",
   "execution_count": null,
   "id": "496322da",
   "metadata": {},
   "outputs": [],
   "source": []
  }
 ],
 "metadata": {
  "kernelspec": {
   "display_name": "Python 3 (ipykernel)",
   "language": "python",
   "name": "python3"
  },
  "language_info": {
   "codemirror_mode": {
    "name": "ipython",
    "version": 3
   },
   "file_extension": ".py",
   "mimetype": "text/x-python",
   "name": "python",
   "nbconvert_exporter": "python",
   "pygments_lexer": "ipython3",
   "version": "3.8.10"
  }
 },
 "nbformat": 4,
 "nbformat_minor": 5
}
