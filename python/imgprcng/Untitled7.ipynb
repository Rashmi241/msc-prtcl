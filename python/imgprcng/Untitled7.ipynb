{
 "cells": [
  {
   "cell_type": "code",
   "execution_count": null,
   "id": "30249041",
   "metadata": {},
   "outputs": [],
   "source": [
    "import numpy as np  \n",
    "import cv2  \n",
    "img = cv2.imread(r'/home/user/images/images.jpg', 1)  \n",
    "#defining points for polylines  \n",
    "pts = np.array([[100,500],[200,300],[100,800],[300,800]], np.int32)  \n",
    "# pts = pts.reshape((-1,1,2))  \n",
    "cv2.polylines(img, [pts], True, (0,255,255), 3)  \n",
    "cv2.imshow('image',img)  \n",
    "cv2.waitKey(0)  \n",
    "cv2.destroyAllWindows() \n"
   ]
  },
  {
   "cell_type": "code",
   "execution_count": null,
   "id": "0f51cfaf",
   "metadata": {},
   "outputs": [],
   "source": [
    "import numpy as np  \n",
    "import cv2  \n",
    "img = cv2.imread(r'/home/user/images/images.jpg', 1)  \n",
    "#defining points for polylines  \n",
    "pts = np.array([[100,500],[200,300],[100,800],[300,800]], np.int32)  \n",
    "# pts = pts.reshape((-1,1,2))  \n",
    "cv2.polylines(img, [pts], True, (0,255,255), 3)  \n",
    "cv2.imshow('image',img)  \n",
    "cv2.waitKey(0)  \n",
    "cv2.destroyAllWindows() \n"
   ]
  },
  {
   "cell_type": "code",
   "execution_count": null,
   "id": "4731596e",
   "metadata": {},
   "outputs": [],
   "source": []
  }
 ],
 "metadata": {
  "kernelspec": {
   "display_name": "Python 3 (ipykernel)",
   "language": "python",
   "name": "python3"
  }
 },
 "nbformat": 4,
 "nbformat_minor": 5
}
