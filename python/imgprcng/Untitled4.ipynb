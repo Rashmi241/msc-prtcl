{
 "cells": [
  {
   "cell_type": "code",
   "execution_count": null,
   "id": "b3e461b0",
   "metadata": {},
   "outputs": [],
   "source": [
    "import statistics\n",
    "a=[int(x) for x in input(\"enter the numbers:\").split()]\n",
    "print(\"1.mean\\n2.median\\n3.mode\\n4.standard deviation\\n5.variance\\n\")\n",
    "while True:\n",
    "   ch=int(input(\"enter your choice\"))  \n",
    "   if ch==1:\n",
    "     print(\"mean=\",statistics.mean(a))\n",
    "   elif ch==2:  \n",
    "     print(\"median=\",statistics.median(a))\n",
    "   elif ch==3:\n",
    "     print(\"mode=\",statistics.mode(a))\n",
    "   elif ch==4:\n",
    "     print(\"standard deviation=\",statistics.stdev(a))\n",
    "   elif ch==5:  \n",
    "     import numpy as np\n",
    "     print(\"variance=\",np.var(a))\n",
    "   else:\n",
    "     print(\"exit\")\n",
    "     break\n"
   ]
  }
 ],
 "metadata": {
  "kernelspec": {
   "display_name": "Python 3 (ipykernel)",
   "language": "python",
   "name": "python3"
  },
  "language_info": {
   "codemirror_mode": {
    "name": "ipython",
    "version": 3
   },
   "file_extension": ".py",
   "mimetype": "text/x-python",
   "name": "python",
   "nbconvert_exporter": "python",
   "pygments_lexer": "ipython3",
   "version": "3.8.10"
  }
 },
 "nbformat": 4,
 "nbformat_minor": 5
}
