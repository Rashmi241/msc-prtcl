{
 "cells": [
  {
   "cell_type": "code",
   "execution_count": 2,
   "id": "e3b37bf8",
   "metadata": {},
   "outputs": [
    {
     "name": "stdout",
     "output_type": "stream",
     "text": [
      "Enter nodes :8 3 10 1 6 4 7 14 13\n",
      "Enter the neighbors of node 8: 3 10\n",
      "Enter the neighbors of node 3: 1 6\n",
      "Enter the neighbors of node 10: 14\n",
      "Enter the neighbors of node 1: \n",
      "Enter the neighbors of node 6: 4 7\n",
      "Enter the neighbors of node 4: \n",
      "Enter the neighbors of node 7: \n",
      "Enter the neighbors of node 14: 13\n",
      "Enter the neighbors of node 13: \n",
      "Enter the starting node for DFS: 8\n",
      "Following is the depth-First Search:\n",
      "8\n",
      "3\n",
      "1\n",
      "6\n",
      "4\n",
      "7\n",
      "10\n",
      "14\n",
      "13\n"
     ]
    }
   ],
   "source": [
    "def dfs_with_stack( visited,graph, node):\n",
    "    if node not in visited:\n",
    "        print(node)\n",
    "        visited.add(node)\n",
    "        for neighbour in graph[node]:\n",
    "            dfs_with_stack( visited,graph, neighbour)\n",
    "graph = {}\n",
    "visited = set()\n",
    "node=[x for x in input(\"Enter nodes :\").split()] \n",
    "for i in node:\n",
    "    neighbor = input(f\"Enter the neighbors of node {i}: \").split()\n",
    "    graph[str(i)] = neighbor\n",
    "start_node = input(\"Enter the starting node for DFS: \")\n",
    "if start_node in graph:\n",
    "    print(\"Following is the depth-First Search:\")\n",
    "    dfs_with_stack(visited,graph, start_node)\n",
    "else:\n",
    "    print(\"Starting node not found in the graph.\")\n"
   ]
  },
  {
   "cell_type": "code",
   "execution_count": null,
   "id": "2d678b83",
   "metadata": {},
   "outputs": [],
   "source": []
  }
 ],
 "metadata": {
  "kernelspec": {
   "display_name": "Python 3 (ipykernel)",
   "language": "python",
   "name": "python3"
  },
  "language_info": {
   "codemirror_mode": {
    "name": "ipython",
    "version": 3
   },
   "file_extension": ".py",
   "mimetype": "text/x-python",
   "name": "python",
   "nbconvert_exporter": "python",
   "pygments_lexer": "ipython3",
   "version": "3.8.10"
  }
 },
 "nbformat": 4,
 "nbformat_minor": 5
}
