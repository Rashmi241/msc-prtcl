{
 "cells": [
  {
   "cell_type": "code",
   "execution_count": 1,
   "id": "23c41cac",
   "metadata": {},
   "outputs": [
    {
     "name": "stdout",
     "output_type": "stream",
     "text": [
      "Enter Start Node (A, B, C, D, E, G): A\n",
      "Enter Stop Node (A, B, C, D, E, G): G\n",
      "Path found: ['A', 'E', 'D', 'G']\n",
      "Total Score : 10\n"
     ]
    }
   ],
   "source": [
    "from heapq import heappop, heappush\n",
    "def a_star_search(graph, start, goal, heuristic):\n",
    "    open_set = [(0, start)]  # Priority queue with (f_score, node)\n",
    "    came_from = {}\n",
    "    g_score = {start: 0}\n",
    "    f_score=0\n",
    "\n",
    "    while open_set:\n",
    "        current_f_score, current = heappop(open_set)\n",
    "\n",
    "        if current == goal:\n",
    "            path=reconstruct_path(came_from, goal)\n",
    "            print(f\"Path found: {path}\")\n",
    "            print(\"Total Score :\",f_score)\n",
    "            return\n",
    "\n",
    "        for neighbor, cost in graph[current]:\n",
    "            tentative_g_score = g_score[current] + cost\n",
    "            if neighbor not in g_score or tentative_g_score < g_score[neighbor]:\n",
    "                came_from[neighbor] = current\n",
    "                g_score[neighbor] = tentative_g_score\n",
    "                f_score = tentative_g_score + heuristic[neighbor]\n",
    "                heappush(open_set, (f_score, neighbor))\n",
    "\n",
    "    print(\"Path does not exist!\")\n",
    "    return None\n",
    "\n",
    "def reconstruct_path(came_from, current):\n",
    "    path = [current]\n",
    "    while current in came_from:\n",
    "        current = came_from[current]\n",
    "        path.append(current)\n",
    "    path.reverse()\n",
    "    return path\n",
    "\n",
    "# Example graph represented as an adjacency list\n",
    "graph = {\n",
    "    'A': [('B', 2), ('E', 3)],\n",
    "    'B': [('C', 1), ('G', 9), ('A', 2)],\n",
    "    'C': [('B', 1)],\n",
    "    'E': [('D', 6), ('A', 3)],\n",
    "    'D': [('G', 1), ('E', 6)],\n",
    "    'G': [('B', 9), ('D', 1)]\n",
    "}\n",
    "\n",
    "# Example heuristic for each node\n",
    "heuristic = {\n",
    "    'A': 11, 'B': 6, 'C': 99, 'D': 1, 'E': 7, 'G': 0\n",
    "}\n",
    "\n",
    "# Example usage:\n",
    "start_node = input(\"Enter Start Node (A, B, C, D, E, G): \").upper()\n",
    "stop_node = input(\"Enter Stop Node (A, B, C, D, E, G): \").upper()\n",
    "\n",
    "if start_node in graph and stop_node in graph:\n",
    "    a_star_search_result = a_star_search(graph, start_node, stop_node, heuristic)\n",
    "else:\n",
    "    print(\"Invalid start or stop node.\")\n",
    "\n",
    "\n"
   ]
  },
  {
   "cell_type": "code",
   "execution_count": null,
   "id": "d4048dba",
   "metadata": {},
   "outputs": [],
   "source": []
  }
 ],
 "metadata": {
  "kernelspec": {
   "display_name": "Python 3 (ipykernel)",
   "language": "python",
   "name": "python3"
  },
  "language_info": {
   "codemirror_mode": {
    "name": "ipython",
    "version": 3
   },
   "file_extension": ".py",
   "mimetype": "text/x-python",
   "name": "python",
   "nbconvert_exporter": "python",
   "pygments_lexer": "ipython3",
   "version": "3.8.10"
  }
 },
 "nbformat": 4,
 "nbformat_minor": 5
}
