{
 "cells": [
  {
   "cell_type": "code",
   "execution_count": 3,
   "id": "5f67caaa",
   "metadata": {},
   "outputs": [
    {
     "name": "stdout",
     "output_type": "stream",
     "text": [
      "mean 50.0\n",
      "mode 20\n"
     ]
    }
   ],
   "source": [
    "import numpy as np\n",
    "import statistics as st\n",
    "spd=[20,30,40,50,60,70,80]\n",
    "mode=st.mode(spd)\n",
    "mean=np.mean(spd)\n",
    "print('mean',mean)\n",
    "print('mode',mode)\n",
    "#print('median',median)"
   ]
  },
  {
   "cell_type": "code",
   "execution_count": 11,
   "id": "ca0c2ca9",
   "metadata": {},
   "outputs": [
    {
     "name": "stdout",
     "output_type": "stream",
     "text": [
      "pushed item10\n",
      "pushed item20\n",
      "pushed item30\n",
      "pushed item40\n",
      "popped item: 40\n",
      "stack element are:\n",
      "10\n",
      "20\n",
      "30\n"
     ]
    }
   ],
   "source": [
    "def create():\n",
    "    stack=list()\n",
    "    return stack;\n",
    "def Isempty(stack):\n",
    "    return len(stack)==0\n",
    "def push(stack,n):\n",
    "    stack.append(n)\n",
    "    print('pushed item'+n)\n",
    "def pop(stack):\n",
    "    if(Isempty(stack)):\n",
    "     return \"stack is empty\"\n",
    "    else:\n",
    "        return stack.pop()\n",
    "def show(stack):\n",
    "    print(\"stack element are:\")\n",
    "    for i in stack:\n",
    "        print(i)\n",
    "stack = create()\n",
    "push(stack,str(10))\n",
    "push(stack,str(20))\n",
    "push(stack,str(30))\n",
    "push(stack,str(40))\n",
    "print(\"popped item: \" + pop(stack))\n",
    "show(stack)\n",
    "\n"
   ]
  },
  {
   "cell_type": "code",
   "execution_count": 1,
   "id": "d70ae7fd",
   "metadata": {},
   "outputs": [
    {
     "name": "stdout",
     "output_type": "stream",
     "text": [
      "is the queue empty? True\n",
      "Queue: [10, 20, 30, 40]\n",
      "Dequeued item: 10\n",
      "Dequeued item: 20\n",
      "Queue: [30, 40]\n",
      "Size of the queue: 2\n"
     ]
    }
   ],
   "source": [
    "class Queue:\n",
    "    def __init__(self):\n",
    "        self.items = []\n",
    "    def is_empty(self):\n",
    "        return self.items == []\n",
    "    def enqueue(self, item):\n",
    "        self.items.append(item)\n",
    "    def dequeue(self):\n",
    "        if not self.is_empty():\n",
    "            return self.items.pop(0)\n",
    "        else:\n",
    "            return \"Queue is empty\"\n",
    "    def size(self):\n",
    "        return len(self.items)\n",
    "    def display(self):\n",
    "        print(\"Queue:\", self.items)\n",
    "q = Queue()\n",
    "print(\"is the queue empty?\", q.is_empty()) \n",
    "q.enqueue(10)\n",
    "q.enqueue(20)\n",
    "q.enqueue(30)\n",
    "q.enqueue(40)\n",
    "q.display() \n",
    "print(\"Dequeued item:\", q.dequeue())  \n",
    "print(\"Dequeued item:\", q.dequeue()) \n",
    "q.display()\n",
    "print(\"Size of the queue:\", q.size())\n"
   ]
  },
  {
   "cell_type": "code",
   "execution_count": 2,
   "id": "221c5f96",
   "metadata": {},
   "outputs": [
    {
     "name": "stdout",
     "output_type": "stream",
     "text": [
      "Element not found\n"
     ]
    }
   ],
   "source": [
    "def linear_Search(list1, n, key):  \n",
    "    for i in range(0, n):  \n",
    "        if (list1[i] == key):  \n",
    "            return i  \n",
    "    return -1  \n",
    "list1 = [10]\n",
    "key = 7  \n",
    "n = len(list1)  \n",
    "res = linear_Search(list1, n, key)  \n",
    "if(res == -1):  \n",
    "    print(\"Element not found\")  \n",
    "else:  \n",
    "    print(\"Element found at index: \", res)  "
   ]
  },
  {
   "cell_type": "code",
   "execution_count": 3,
   "id": "2b12c7c4",
   "metadata": {},
   "outputs": [
    {
     "name": "stdout",
     "output_type": "stream",
     "text": [
      "Element found at index:  3\n"
     ]
    }
   ],
   "source": [
    "def linearSearch(array, n, x):\n",
    "\n",
    "    # Going through array sequencially\n",
    "    for i in range(0, n):\n",
    "        if (array[i] == x):\n",
    "            return i\n",
    "    return -1\n",
    "\n",
    "\n",
    "array = [2, 4, 0, 1, 9]\n",
    "x = 1\n",
    "n = len(array)\n",
    "result = linearSearch(array, n, x)\n",
    "if(result == -1):\n",
    "    print(\"Element not found\")\n",
    "else:\n",
    "    print(\"Element found at index: \", result)\n"
   ]
  },
  {
   "cell_type": "code",
   "execution_count": null,
   "id": "16ec9793",
   "metadata": {},
   "outputs": [],
   "source": []
  }
 ],
 "metadata": {
  "kernelspec": {
   "display_name": "Python 3 (ipykernel)",
   "language": "python",
   "name": "python3"
  },
  "language_info": {
   "codemirror_mode": {
    "name": "ipython",
    "version": 3
   },
   "file_extension": ".py",
   "mimetype": "text/x-python",
   "name": "python",
   "nbconvert_exporter": "python",
   "pygments_lexer": "ipython3",
   "version": "3.8.10"
  }
 },
 "nbformat": 4,
 "nbformat_minor": 5
}
