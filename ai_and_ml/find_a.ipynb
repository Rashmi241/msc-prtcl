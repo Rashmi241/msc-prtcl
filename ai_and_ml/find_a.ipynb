{
 "cells": [
  {
   "cell_type": "code",
   "execution_count": 7,
   "id": "8d9cdc0d-53e7-4b26-ae73-da9eb6e46aa5",
   "metadata": {},
   "outputs": [
    {
     "name": "stdout",
     "output_type": "stream",
     "text": [
      "     sky air temp humidity    wind water forecast enjoy sport\n",
      "0  sunny     warm   normal  strong  warm     same         yes\n",
      "1  sunny     warm     high  strong  warm     same         yes\n",
      "2  rainy     cold     high  strong  warm   change          no\n",
      "3  sunny     warm     high  strong  cool   change         yes\n",
      "\n",
      "Initial value of hypothesis : ['0', '0', '0', '0', '0', '0'] \n",
      "\n",
      "For Training instance No:0 the hypothesis is ['sunny', 'warm', 'normal', 'strong', 'warm', 'same']\n",
      "For Training instance No:1 the hypothesis is ['sunny', 'warm', '?', 'strong', 'warm', 'same']\n",
      "For Training instance No:3 the hypothesis is ['sunny', 'warm', '?', 'strong', '?', '?']\n",
      "\n",
      "Final Hypothesis: ['sunny', 'warm', '?', 'strong', '?', '?']\n"
     ]
    }
   ],
   "source": [
    "import pandas as pd\n",
    "\n",
    "def find_s(train_eg):\n",
    "    hypothesis = ['0'] * (len(train_eg[0]) - 1)\n",
    "    print(\"\\nInitial value of hypothesis :\",hypothesis,\"\\n\")\n",
    "    for i in range(len(train_eg)):#to move each eg\n",
    "        if train_eg[i][-1] == 'yes':#consider +ive target (yes)\n",
    "            for j in range(len(hypothesis)):\n",
    "                if hypothesis[j] == '0':\n",
    "                    hypothesis[j] = train_eg[i][j]\n",
    "                elif train_eg[i][j] != hypothesis[j]:\n",
    "                    hypothesis[j] = '?'\n",
    "            print(\"For Training instance No:{0} the hypothesis is {1}\".format(i, hypothesis))\n",
    "    return hypothesis\n",
    "data = pd.read_csv('data.csv')\n",
    "df = pd.DataFrame(data)\n",
    "print(df)\n",
    "training_data = df.values.tolist()\n",
    "result_hypothesis = find_s(training_data)\n",
    "print(\"\\nFinal Hypothesis:\", result_hypothesis)"
   ]
  },
  {
   "cell_type": "code",
   "execution_count": null,
   "id": "a7b34648",
   "metadata": {},
   "outputs": [],
   "source": []
  }
 ],
 "metadata": {
  "kernelspec": {
   "display_name": "Python 3 (ipykernel)",
   "language": "python",
   "name": "python3"
  },
  "language_info": {
   "codemirror_mode": {
    "name": "ipython",
    "version": 3
   },
   "file_extension": ".py",
   "mimetype": "text/x-python",
   "name": "python",
   "nbconvert_exporter": "python",
   "pygments_lexer": "ipython3",
   "version": "3.8.10"
  }
 },
 "nbformat": 4,
 "nbformat_minor": 5
}
