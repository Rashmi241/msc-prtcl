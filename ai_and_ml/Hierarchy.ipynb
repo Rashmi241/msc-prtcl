{
 "cells": [
  {
   "cell_type": "code",
   "execution_count": null,
   "id": "e37c2c88-c2ee-4dba-8546-e4bd092cf3bd",
   "metadata": {},
   "outputs": [],
   "source": [
    "import numpy as np\n",
    "import matplotlib.pyplot as plt\n",
    "import pandas as pd\n",
    "from sklearn.cluster import AgglomerativeClustering\n",
    "import scipy.cluster.hierarchy as sch\n",
    "\n",
    "#display first 5 rows\n",
    "df = pd.read_csv('Mall_Customers.csv')\n",
    "print(df.head())\n",
    "\n",
    "#Select best features for clustering\n",
    "plt.figure(figsize=(5,5))\n",
    "plt.title(\"Annual Income and Spending Score correlation\",fontsize=18)\n",
    "plt.xlabel (\"Annual Income (k$)\",fontsize=14)\n",
    "plt.ylabel (\"Spending Score (1-100)\",fontsize=14)\n",
    "plt.grid(True)\n",
    "plt.scatter(df['Annual Income (k$)'],df['Spending Score (1-100)'],color='red',edgecolor='k',alpha=0.6, s=100)\n",
    "plt.show()\n",
    "\n",
    "plt.figure(figsize=(5,5))\n",
    "plt.title(\"Age and Spending Score correlation\",fontsize=18)\n",
    "plt.xlabel (\"Age\",fontsize=14)\n",
    "plt.ylabel (\"Spending Score (1-100)\",fontsize=14)\n",
    "plt.grid(True)\n",
    "plt.scatter(df['Age'],df['Spending Score (1-100)'],color='blue',edgecolor='k',alpha=0.6, s=100)\n",
    "plt.show()\n",
    "\n",
    "X = df.iloc[:,[3,4]].values\n",
    "\n",
    "#plot dendogram to find optimal number of clusters\n",
    "plt.figure(figsize=(5,5))\n",
    "plt.title('Dendrogram')\n",
    "plt.xlabel('Customers')\n",
    "plt.ylabel('Euclidean distances')\n",
    "dendrogram = sch.dendrogram(sch.linkage(X, method = 'ward'))\n",
    "plt.show()\n",
    "optimal_k=5\n",
    "#cluster the customers using Agglomerative Hierarchical Clustering\n",
    "hc = AgglomerativeClustering(n_clusters = optimal_k, metric= 'euclidean', linkage = 'ward')\n",
    "y_hc = hc.fit_predict(X)\n",
    "\n",
    "#plot the result\n",
    "plt.figure(figsize=(7,7))\n",
    "plt.scatter(X[y_hc == 0, 0], X[y_hc == 0, 1], s = 100, c = 'red', label = 'Careful')\n",
    "plt.scatter(X[y_hc == 1, 0], X[y_hc == 1, 1], s = 100, c = 'blue', label = 'Standard')\n",
    "plt.scatter(X[y_hc == 2, 0], X[y_hc == 2, 1], s = 100, c = 'green', label = 'Target group')\n",
    "plt.scatter(X[y_hc == 3, 0], X[y_hc == 3, 1], s = 100, c = 'orange', label = 'Careless')\n",
    "plt.scatter(X[y_hc == 4, 0], X[y_hc == 4, 1], s = 100, c = 'magenta', label = 'Sensible')\n",
    "plt.title('Clustering of customers',fontsize=20)\n",
    "plt.xlabel('Annual Income (k$)',fontsize=16)\n",
    "plt.ylabel('Spending Score (1-100)',fontsize=16)\n",
    "plt.legend()\n",
    "plt.grid(True)\n",
    "plt.axhspan(ymin=60,ymax=100,xmin=0.4,xmax=0.96,alpha=0.3,color='yellow')\n",
    "plt.show()"
   ]
  }
 ],
 "metadata": {
  "kernelspec": {
   "display_name": "Python 3 (ipykernel)",
   "language": "python",
   "name": "python3"
  },
  "language_info": {
   "codemirror_mode": {
    "name": "ipython",
    "version": 3
   },
   "file_extension": ".py",
   "mimetype": "text/x-python",
   "name": "python",
   "nbconvert_exporter": "python",
   "pygments_lexer": "ipython3",
   "version": "3.8.10"
  }
 },
 "nbformat": 4,
 "nbformat_minor": 5
}
