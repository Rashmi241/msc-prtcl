{
 "cells": [
  {
   "cell_type": "code",
   "execution_count": 13,
   "id": "60b172b3",
   "metadata": {},
   "outputs": [
    {
     "name": "stdout",
     "output_type": "stream",
     "text": [
      "Goal reached: E\n"
     ]
    },
    {
     "ename": "SyntaxError",
     "evalue": "'return' outside function (4289843835.py, line 40)",
     "output_type": "error",
     "traceback": [
      "\u001b[0;36m  Cell \u001b[0;32mIn[13], line 40\u001b[0;36m\u001b[0m\n\u001b[0;31m    return path\u001b[0m\n\u001b[0m    ^\u001b[0m\n\u001b[0;31mSyntaxError\u001b[0m\u001b[0;31m:\u001b[0m 'return' outside function\n"
     ]
    }
   ],
   "source": [
    "from queue import PriorityQueue\n",
    "\n",
    "def greedy_best_first_search(graph, start, goal, heuristic):\n",
    "    priority_queue = PriorityQueue()\n",
    "    priority_queue.put((heuristic(start, goal), start))\n",
    "    visited = set()\n",
    "    \n",
    "    while not priority_queue.empty():\n",
    "        current_node = priority_queue.get()[1]\n",
    "        if current_node == goal:\n",
    "            print(\"Goal reached:\", current_node)\n",
    "            return True\n",
    "        visited.add(current_node)\n",
    "        for neighbor in graph[current_node]:\n",
    "            if neighbor not in visited:\n",
    "                priority_queue.put((heuristic(neighbor, goal), neighbor))\n",
    "    print(\"Goal not reached\")\n",
    "    return False\n",
    "\n",
    "graph = {\n",
    "    'A': ['B', 'C'],\n",
    "    'B': ['D','A'],\n",
    "    'C': ['D','E'],\n",
    "    'D': ['B','C','E'],\n",
    "    'E': []\n",
    "    \n",
    "}\n",
    "\n",
    "def heuristic(node, goal):\n",
    "    heuristic_values = {'A': 11, 'B': 8, 'C': 4, 'D': 5, 'E': 0}\n",
    "    return heuristic_values[node]\n",
    "\n",
    "start_node = 'A'\n",
    "goal_node = 'E'\n",
    "\n",
    "path = greedy_best_first_search(graph, start_node,goal_node, heuristic)\n",
    "\n",
    "if path:\n",
    "    print(\"path found\".format(path))\n",
    "    return path\n",
    "    open_set.remove(n)\n",
    "    closed_set.add(n)\n",
    "else:\n",
    "    print(\"No path found.\")\n",
    "greedy_best_first_search(graph, start_node, goal_node, heuristic)\n"
   ]
  },
  {
   "cell_type": "code",
   "execution_count": 17,
   "id": "3450352c",
   "metadata": {},
   "outputs": [
    {
     "name": "stdout",
     "output_type": "stream",
     "text": [
      "Goal reached: E\n",
      "Path: ['A', 'C', 'E']\n"
     ]
    },
    {
     "data": {
      "text/plain": [
       "True"
      ]
     },
     "execution_count": 17,
     "metadata": {},
     "output_type": "execute_result"
    }
   ],
   "source": [
    "from queue import PriorityQueue\n",
    "\n",
    "def greedy_best_first_search(graph, start, goal, heuristic):\n",
    "    priority_queue = PriorityQueue()\n",
    "    priority_queue.put((heuristic(start, goal), start, [start]))  # Include the path as a third element in the tuple\n",
    "    visited = set()\n",
    "\n",
    "    while not priority_queue.empty():\n",
    "        current_heuristic, current_node, current_path = priority_queue.get()\n",
    "\n",
    "        if current_node == goal:\n",
    "            print(\"Goal reached:\", current_node)\n",
    "            print(\"Path:\", current_path)\n",
    "            return True\n",
    "\n",
    "        visited.add(current_node)\n",
    "\n",
    "        for neighbor in graph[current_node]:\n",
    "            if neighbor not in visited:\n",
    "                new_path = current_path + [neighbor]  # Extend the path\n",
    "                priority_queue.put((heuristic(neighbor, goal), neighbor, new_path))\n",
    "\n",
    "    print(\"Goal not reached\")\n",
    "    return False\n",
    "graph = {\n",
    "   'A':{'B':2,'C':7},\n",
    "   'B':{'D':2,'A':2},\n",
    "   'C':{'D':2,'E':4},\n",
    "   'D':{'C':2,'E':5},\n",
    "   'E':None\n",
    "}\n",
    "\n",
    "def heuristic(node, goal):\n",
    "    heuristic_values = {'A': 11, 'B': 8,'C': 4,'D': 5,'E': 0}\n",
    "    return heuristic_values[node]\n",
    "\n",
    "start_node = 'A'\n",
    "goal_node = 'E'\n",
    "\n",
    "greedy_best_first_search(graph, start_node, goal_node, heuristic)\n"
   ]
  },
  {
   "cell_type": "code",
   "execution_count": null,
   "id": "fbc4fefc",
   "metadata": {},
   "outputs": [],
   "source": []
  }
 ],
 "metadata": {
  "kernelspec": {
   "display_name": "Python 3 (ipykernel)",
   "language": "python",
   "name": "python3"
  },
  "language_info": {
   "codemirror_mode": {
    "name": "ipython",
    "version": 3
   },
   "file_extension": ".py",
   "mimetype": "text/x-python",
   "name": "python",
   "nbconvert_exporter": "python",
   "pygments_lexer": "ipython3",
   "version": "3.8.10"
  }
 },
 "nbformat": 4,
 "nbformat_minor": 5
}
